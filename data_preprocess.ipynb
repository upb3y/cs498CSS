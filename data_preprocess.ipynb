{
  "nbformat": 4,
  "nbformat_minor": 0,
  "metadata": {
    "colab": {
      "provenance": []
    },
    "kernelspec": {
      "name": "python3",
      "display_name": "Python 3"
    },
    "language_info": {
      "name": "python"
    }
  },
  "cells": [
    {
      "cell_type": "code",
      "source": [
        "import pandas as pd"
      ],
      "metadata": {
        "id": "w-EPPrZPzyfJ"
      },
      "execution_count": 2,
      "outputs": []
    },
    {
      "cell_type": "code",
      "source": [
        "def check_filter(filename: str, encoding: str):\n",
        "  df = pd.read_csv(filename, encoding=encoding)\n",
        "  total_length = len(df)\n",
        "  for col in df.columns:\n",
        "    has_null = df[col].isnull().any()\n",
        "    if has_null:\n",
        "      return f\"{filename} has null value at {col} \\n\"\n",
        "    if len(df[col]) != total_length:\n",
        "      return f\"{filename} has incorrect column length at {col} \\n\"\n",
        "  df1 = df.drop_duplicates()\n",
        "  if len(df1) != total_length:\n",
        "    return f\"{filename} has duplicate rows \\n\"\n",
        "  return f\"{filename} check filter success \\n\"\n",
        "\n",
        "# columns are ['id', 'thread_number', 'timestamp', 'text', 'retweets', 'likes', 'replies']\n",
        "def check_column_types(filename: str, encoding: str):\n",
        "  df = pd.read_csv(filename, encoding=encoding)\n",
        "  if (df['timestamp'].dtype != int) or (df['retweets'].dtype != int) or (df['likes'].dtype != int) or (df['replies'].dtype != int):\n",
        "   return f\"{filename} has incorrect type \\n\"\n",
        "  has_negatives1 = (df['retweets'] < 0).any()\n",
        "  has_negatives2 = (df['likes'] < 0).any()\n",
        "  has_negatives3 = (df['replies'] < 0).any()\n",
        "  if has_negatives1 or has_negatives2 or has_negatives3:\n",
        "    return f\"{filename} has negative engagement values \\n\"\n",
        "  for thread in df['thread_number']:\n",
        "    if type(thread) != str:\n",
        "      return f\"{filename} has incorrect type, thread_number not a string \\n\"\n",
        "    if thread[0:6] != \"Thread\":\n",
        "      return f\"{filename} has incorrect name for thread_number \\n\"\n",
        "  return f\"{filename} check column type success \\n\""
      ],
      "metadata": {
        "id": "zsuLbEEq1zJL"
      },
      "execution_count": 17,
      "outputs": []
    },
    {
      "cell_type": "code",
      "execution_count": 27,
      "metadata": {
        "colab": {
          "base_uri": "https://localhost:8080/",
          "height": 35
        },
        "id": "Hsg89gD0zCtJ",
        "outputId": "e891027e-dd5a-4951-bb4b-aa9167770e73"
      },
      "outputs": [
        {
          "output_type": "execute_result",
          "data": {
            "text/plain": [
              "'twentyfive_thirty.csv check column type success \\n'"
            ],
            "application/vnd.google.colaboratory.intrinsic+json": {
              "type": "string"
            }
          },
          "metadata": {},
          "execution_count": 27
        }
      ],
      "source": [
        "check_filter(\"five_ten.csv\", encoding=\"ISO-8859-1\")\n",
        "check_filter(\"ten_fifteen.csv\", encoding=\"ISO-8859-1\")\n",
        "check_filter(\"fifteen_twenty.csv\", encoding=\"ISO-8859-1\")\n",
        "check_filter(\"twenty_twentyfive.csv\", encoding=\"ISO-8859-1\")\n",
        "check_filter(\"twentyfive_thirty.csv\", encoding=\"ISO-8859-1\")\n",
        "\n",
        "check_column_types(\"five_ten.csv\", encoding=\"ISO-8859-1\")\n",
        "check_column_types(\"ten_fifteen.csv\", encoding=\"ISO-8859-1\")\n",
        "check_column_types(\"fifteen_twenty.csv\", encoding=\"ISO-8859-1\")\n",
        "check_column_types(\"twenty_twentyfive.csv\", encoding=\"ISO-8859-1\")\n",
        "check_column_types(\"twentyfive_thirty.csv\", encoding=\"ISO-8859-1\")"
      ]
    },
    {
      "cell_type": "code",
      "source": [
        "import chardet\n",
        "\n",
        "# Detect encoding\n",
        "with open('five_ten.csv', 'rb') as file:\n",
        "    print(chardet.detect(file.read()))"
      ],
      "metadata": {
        "colab": {
          "base_uri": "https://localhost:8080/"
        },
        "id": "_tstYUNR0Els",
        "outputId": "450b3101-6888-49e1-c18f-983055758601"
      },
      "execution_count": null,
      "outputs": [
        {
          "output_type": "stream",
          "name": "stdout",
          "text": [
            "{'encoding': 'ISO-8859-1', 'confidence': 0.7222415887282886, 'language': ''}\n"
          ]
        }
      ]
    }
  ]
}